{
 "cells": [
  {
   "cell_type": "code",
   "execution_count": 5,
   "id": "distinct-bolivia",
   "metadata": {},
   "outputs": [],
   "source": [
    "import matplotlib\n",
    "import math"
   ]
  },
  {
   "cell_type": "code",
   "execution_count": 2,
   "id": "imposed-protocol",
   "metadata": {},
   "outputs": [
    {
     "data": {
      "text/plain": [
       "7"
      ]
     },
     "execution_count": 2,
     "metadata": {},
     "output_type": "execute_result"
    }
   ],
   "source": [
    "3 + 4"
   ]
  },
  {
   "cell_type": "code",
   "execution_count": 3,
   "id": "banned-spank",
   "metadata": {},
   "outputs": [],
   "source": [
    "a = -1\n",
    "b = 5\n",
    "c = 2"
   ]
  },
  {
   "cell_type": "markdown",
   "id": "passing-vietnam",
   "metadata": {},
   "source": [
    "# Titre\n",
    "## Sous titres\n",
    "\n",
    "$ x_{1,2} = -b \\frac{\\pm\\sqrt{b^2 - 4\\cdot a\\cdot c}}{2\\cdot a}$"
   ]
  },
  {
   "cell_type": "code",
   "execution_count": 7,
   "id": "serious-cutting",
   "metadata": {},
   "outputs": [
    {
     "data": {
      "text/plain": [
       "[-7.872281323269014, -2.1277186767309857]"
      ]
     },
     "execution_count": 7,
     "metadata": {},
     "output_type": "execute_result"
    }
   ],
   "source": [
    "[-b + math.sqrt(b * b - 4 * a * c) / (2 * a), \n",
    "-b - math.sqrt(b * b - 4 * a * c) / (2 * a)]"
   ]
  }
 ],
 "metadata": {
  "kernelspec": {
   "display_name": "Python 3",
   "language": "python",
   "name": "python3"
  },
  "language_info": {
   "codemirror_mode": {
    "name": "ipython",
    "version": 3
   },
   "file_extension": ".py",
   "mimetype": "text/x-python",
   "name": "python",
   "nbconvert_exporter": "python",
   "pygments_lexer": "ipython3",
   "version": "3.8.2"
  }
 },
 "nbformat": 4,
 "nbformat_minor": 5
}
